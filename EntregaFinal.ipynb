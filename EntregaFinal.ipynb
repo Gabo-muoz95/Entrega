{
  "nbformat": 4,
  "nbformat_minor": 0,
  "metadata": {
    "colab": {
      "provenance": []
    },
    "kernelspec": {
      "name": "python3",
      "display_name": "Python 3"
    },
    "language_info": {
      "name": "python"
    }
  },
  "cells": [
    {
      "cell_type": "code",
      "execution_count": 1,
      "metadata": {
        "id": "bz9fMAcyq1rQ"
      },
      "outputs": [],
      "source": [
        "# Proyecto Final - Ciencia de Datos"
      ]
    },
    {
      "cell_type": "code",
      "source": [
        "# Proyecto Final - Ciencia de Datos"
      ],
      "metadata": {
        "id": "rBko4-rWrwE4"
      },
      "execution_count": 2,
      "outputs": []
    },
    {
      "cell_type": "markdown",
      "source": [
        "# Proyecto Final - Ciencia de Datos\n",
        "\n",
        "\n"
      ],
      "metadata": {
        "id": "123B_r1GvBNv"
      }
    },
    {
      "cell_type": "markdown",
      "source": [
        "## Introducción  \n",
        "Este cuaderno contiene ejemplos de código y explicaciones sobre herramientas y conceptos clave en la ciencia de datos.\n"
      ],
      "metadata": {
        "id": "pIgyymkZr8Hf"
      }
    },
    {
      "cell_type": "markdown",
      "source": [
        "## Lenguajes utilizados en Ciencia de Datos  \n",
        "Algunos lenguajes populares en ciencia de datos son:  \n",
        "- Python  \n",
        "- R  \n",
        "- SQL  \n",
        "- Julia  \n",
        "- Scala  \n"
      ],
      "metadata": {
        "id": "UV8OmKL6sHM4"
      }
    },
    {
      "cell_type": "markdown",
      "source": [
        "## Bibliotecas populares en Ciencia de Datos  \n",
        "Algunas bibliotecas utilizadas en ciencia de datos incluyen:  \n",
        "- **Python**: Pandas, NumPy, Matplotlib, Scikit-learn, TensorFlow  \n",
        "- **R**: dplyr, ggplot2, caret, stringr  \n",
        "- **Julia**: DataFrames, Flux, MLJ  \n",
        "\n"
      ],
      "metadata": {
        "id": "XQhcv49fsYaf"
      }
    },
    {
      "cell_type": "markdown",
      "source": [
        "## Herramientas de Ciencia de Datos  \n",
        "| Herramienta         | Descripción                                      |\n",
        "|---------------------|------------------------------------------------|\n",
        "| Jupyter Notebook   | Entorno interactivo para código en Python      |\n",
        "| RStudio           | Entorno de desarrollo para R                   |\n",
        "| Apache Spark      | Procesamiento de grandes volúmenes de datos    |\n",
        "| Tableau           | Visualización y análisis de datos              |\n",
        "| TensorFlow        | Biblioteca de aprendizaje profundo             |\n"
      ],
      "metadata": {
        "id": "W-iXd7fEsg7n"
      }
    },
    {
      "cell_type": "markdown",
      "source": [
        "## Ejemplos de Expresiones Aritméticas  \n",
        "En ciencia de datos, realizamos muchas operaciones matemáticas. Algunos ejemplos son:  \n",
        "\n",
        "- **Suma:** 5 + 3 = 8  \n",
        "- **Multiplicación:** 4 × 7 = 28  \n",
        "- **División:** 10 ÷ 2 = 5  \n",
        "- **Potencia:** 2^3 = 8  \n"
      ],
      "metadata": {
        "id": "twrU7N2cslD_"
      }
    },
    {
      "cell_type": "code",
      "source": [
        "# Multiplicación y suma\n",
        "resultado = (5 * 3) + 2\n",
        "resultado\n"
      ],
      "metadata": {
        "colab": {
          "base_uri": "https://localhost:8080/"
        },
        "id": "O_Gzib29ssIv",
        "outputId": "d9ce7750-8830-41a6-cd10-15570bfb7a2b"
      },
      "execution_count": 4,
      "outputs": [
        {
          "output_type": "execute_result",
          "data": {
            "text/plain": [
              "17"
            ]
          },
          "metadata": {},
          "execution_count": 4
        }
      ]
    },
    {
      "cell_type": "code",
      "source": [
        "# Convertir minutos en horas\n",
        "minutos = 150\n",
        "horas = minutos / 60\n",
        "horas\n"
      ],
      "metadata": {
        "colab": {
          "base_uri": "https://localhost:8080/"
        },
        "id": "5xTlF4dEsz4P",
        "outputId": "056f5ebb-16c9-4b5f-f682-4c8c861f8882"
      },
      "execution_count": 5,
      "outputs": [
        {
          "output_type": "execute_result",
          "data": {
            "text/plain": [
              "2.5"
            ]
          },
          "metadata": {},
          "execution_count": 5
        }
      ]
    },
    {
      "cell_type": "code",
      "source": [
        "# Lista de objetivos\n",
        "objetivos = [\n",
        "    \"Aprender sobre Google Colab\",\n",
        "    \"Conocer herramientas de Ciencia de Datos\",\n",
        "    \"Ejecutar código en Python y R\",\n",
        "    \"Compartir cuadernos en GitHub\"\n",
        "]\n",
        "\n",
        "for objetivo in objetivos:\n",
        "    print(\"-\", objetivo)\n"
      ],
      "metadata": {
        "colab": {
          "base_uri": "https://localhost:8080/"
        },
        "id": "vIPIDl0-s2R3",
        "outputId": "02ed24d8-be7f-4067-a45e-e687b621ea33"
      },
      "execution_count": 6,
      "outputs": [
        {
          "output_type": "stream",
          "name": "stdout",
          "text": [
            "- Aprender sobre Google Colab\n",
            "- Conocer herramientas de Ciencia de Datos\n",
            "- Ejecutar código en Python y R\n",
            "- Compartir cuadernos en GitHub\n"
          ]
        }
      ]
    },
    {
      "cell_type": "markdown",
      "source": [
        "## Autor  \n",
        "Este cuaderno fue creado por **Gabriel Muñoz**.\n"
      ],
      "metadata": {
        "id": "LJS1-i9Ts7x4"
      }
    },
    {
      "cell_type": "code",
      "source": [],
      "metadata": {
        "id": "9ddy8xtzs-r_"
      },
      "execution_count": null,
      "outputs": []
    }
  ]
}